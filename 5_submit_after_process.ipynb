{
 "cells": [
  {
   "cell_type": "code",
   "execution_count": 1,
   "metadata": {},
   "outputs": [],
   "source": [
    "import pandas as pd\n",
    "import numpy as np\n",
    "import matplotlib.pyplot as plt\n",
    "import seaborn as sns\n",
    "import os\n",
    "from tqdm import tqdm"
   ]
  },
  {
   "cell_type": "code",
   "execution_count": 7,
   "metadata": {},
   "outputs": [
    {
     "name": "stderr",
     "output_type": "stream",
     "text": [
      "100%|██████████| 10000/10000 [04:45<00:00, 35.06it/s]\n"
     ]
    }
   ],
   "source": [
    "data = pd.read_csv('./data/train.csv')\n",
    "submit_origin = pd.read_csv('./data/ensemble_submit/ensemble_idsplit.csv')\n",
    "submit = submit_origin.copy()\n",
    "\n",
    "all_data = data.iloc[:, -90:]\n",
    "cols = submit.columns[1:]\n",
    "\n",
    "for num in tqdm(range(10000,0, -1)):\n",
    "    indices = all_data[(0 <= all_data) & (all_data <= num)].dropna().index\n",
    "\n",
    "    submit.loc[indices, cols] = np.where(submit.loc[indices, cols] > num, num, submit.loc[indices, cols])"
   ]
  },
  {
   "cell_type": "code",
   "execution_count": 8,
   "metadata": {},
   "outputs": [
    {
     "data": {
      "text/plain": [
       "3633"
      ]
     },
     "execution_count": 8,
     "metadata": {},
     "output_type": "execute_result"
    }
   ],
   "source": [
    "differences = (submit_origin.iloc[:, 1:] != submit.iloc[:, 1:])\n",
    "diff_list = differences.any(axis=1)\n",
    "diff_list = diff_list.index[diff_list].tolist()\n",
    "\n",
    "len(diff_list) # -1 : 3530"
   ]
  },
  {
   "cell_type": "code",
   "execution_count": 9,
   "metadata": {},
   "outputs": [],
   "source": [
    "# len(np.where(submit.iloc[:,1:] > 50000)[0])"
   ]
  },
  {
   "cell_type": "code",
   "execution_count": 10,
   "metadata": {},
   "outputs": [],
   "source": [
    "# # submit.iloc[:,1:]의 데이터 중 50000 이상인 데이터는 모두 50000으로 바꾼다.\n",
    "# submit.iloc[:,1:] = np.where(submit.iloc[:,1:] > 50000, 50000, submit.iloc[:,1:])"
   ]
  },
  {
   "cell_type": "code",
   "execution_count": 11,
   "metadata": {},
   "outputs": [
    {
     "data": {
      "text/plain": [
       "3633"
      ]
     },
     "execution_count": 11,
     "metadata": {},
     "output_type": "execute_result"
    }
   ],
   "source": [
    "differences = (submit_origin.iloc[:, 1:] != submit.iloc[:, 1:])\n",
    "diff_list = differences.any(axis=1)\n",
    "diff_list = diff_list.index[diff_list].tolist()\n",
    "\n",
    "len(diff_list) # -1 : 3530"
   ]
  },
  {
   "cell_type": "code",
   "execution_count": 12,
   "metadata": {},
   "outputs": [],
   "source": [
    "submit.to_csv('DLinear_after_process.csv', index=False)"
   ]
  }
 ],
 "metadata": {
  "kernelspec": {
   "display_name": "lgai",
   "language": "python",
   "name": "python3"
  },
  "language_info": {
   "codemirror_mode": {
    "name": "ipython",
    "version": 3
   },
   "file_extension": ".py",
   "mimetype": "text/x-python",
   "name": "python",
   "nbconvert_exporter": "python",
   "pygments_lexer": "ipython3",
   "version": "3.8.17"
  },
  "orig_nbformat": 4
 },
 "nbformat": 4,
 "nbformat_minor": 2
}
