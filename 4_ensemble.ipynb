{
 "cells": [
  {
   "cell_type": "code",
   "execution_count": 26,
   "metadata": {},
   "outputs": [],
   "source": [
    "import pandas as pd\n",
    "import os\n",
    "import numpy as np"
   ]
  },
  {
   "cell_type": "code",
   "execution_count": 27,
   "metadata": {},
   "outputs": [
    {
     "data": {
      "text/plain": [
       "['linear_idsplit_6_0.5559272855947837.csv',\n",
       " 'linear_idsplit_1_0.5554803791791146.csv',\n",
       " 'linear_idsplit_3_0.554057451804672.csv',\n",
       " 'linear_idsplit_5_0.5537403704135534.csv',\n",
       " 'linear_idsplit_0_0.5535300016232958.csv',\n",
       " 'linear_idsplit_4_0.5531655984880406.csv',\n",
       " 'linear_idsplit_9_0.5513555911184012.csv',\n",
       " 'linear_idsplit_2_0.5512629136239638.csv',\n",
       " 'linear_idsplit_8_0.5511761699225797.csv',\n",
       " 'linear_idsplit_7_0.5486340980378168.csv']"
      ]
     },
     "execution_count": 27,
     "metadata": {},
     "output_type": "execute_result"
    }
   ],
   "source": [
    "file_list = os.listdir('./data/ensemble_submit/')\n",
    "file_list_csv = [file for file in file_list if file.endswith(\".csv\") and file != 'ensemble_idsplit.csv']\n",
    "\n",
    "sort_list = sorted(file_list_csv, reverse=True, key=lambda x: float(x.split('_')[-1].split('.csv')[0]))\n",
    "sort_list"
   ]
  },
  {
   "cell_type": "code",
   "execution_count": 28,
   "metadata": {},
   "outputs": [
    {
     "ename": "",
     "evalue": "",
     "output_type": "error",
     "traceback": [
      "\u001b[1;31mThe Kernel crashed while executing code in the the current cell or a previous cell. Please review the code in the cell(s) to identify a possible cause of the failure. Click <a href='https://aka.ms/vscodeJupyterKernelCrash'>here</a> for more info. View Jupyter <a href='command:jupyter.viewOutput'>log</a> for further details."
     ]
    }
   ],
   "source": [
    "preds = []\n",
    "for i in range(10):\n",
    "    preds.append(pd.read_csv(sort_list[i]).iloc[:,1:])\n",
    "\n",
    "preds = np.array(preds)\n",
    "preds = np.mean(preds, axis=0)"
   ]
  },
  {
   "cell_type": "code",
   "execution_count": 16,
   "metadata": {},
   "outputs": [
    {
     "data": {
      "text/plain": [
       "(15890, 21)"
      ]
     },
     "execution_count": 16,
     "metadata": {},
     "output_type": "execute_result"
    }
   ],
   "source": [
    "preds.shape"
   ]
  },
  {
   "cell_type": "code",
   "execution_count": 17,
   "metadata": {},
   "outputs": [],
   "source": [
    "ss = pd.read_csv('./data/sample_submission.csv')\n",
    "ss.iloc[:,1:] = preds.astype(int)\n",
    "ss.to_csv('./data/ensemble_submit/ensemble_idsplit.csv', index=False)"
   ]
  }
 ],
 "metadata": {
  "kernelspec": {
   "display_name": "lgai",
   "language": "python",
   "name": "python3"
  },
  "language_info": {
   "codemirror_mode": {
    "name": "ipython",
    "version": 3
   },
   "file_extension": ".py",
   "mimetype": "text/x-python",
   "name": "python",
   "nbconvert_exporter": "python",
   "pygments_lexer": "ipython3",
   "version": "3.8.17"
  },
  "orig_nbformat": 4
 },
 "nbformat": 4,
 "nbformat_minor": 2
}
