{
 "cells": [
  {
   "cell_type": "code",
   "execution_count": null,
   "metadata": {},
   "outputs": [],
   "source": [
    "import pandas as pd\n",
    "import numpy as np\n",
    "\n",
    "from tqdm import tqdm\n",
    "\n",
    "import warnings\n",
    "warnings.filterwarnings('ignore')"
   ]
  },
  {
   "cell_type": "code",
   "execution_count": null,
   "metadata": {},
   "outputs": [],
   "source": [
    "data = pd.read_csv('./data/train.csv')\n",
    "data.head()"
   ]
  },
  {
   "cell_type": "code",
   "execution_count": null,
   "metadata": {},
   "outputs": [],
   "source": [
    "cat_df_list = []\n",
    "\n",
    "# Iterate over the rows of the data\n",
    "for index, row in tqdm(data.iterrows()):\n",
    "    cat_list = np.tile(row[:6].values, (len(row[6:]), 1)) # 첫 6개 데이터를 반복\n",
    "    cat_df = pd.DataFrame(cat_list, columns=data.columns[:6]) # 반복된 데이터를 데이터프레임으로 변환\n",
    "    cat_df['판매량'] = row[6:].values # 판매량 데이터 추가\n",
    "    cat_df_list.append(cat_df)\n",
    "\n",
    "cat_df = pd.concat(cat_df_list, axis=0)\n",
    "cat_df.reset_index(drop=True, inplace=True)\n",
    "cat_df"
   ]
  },
  {
   "cell_type": "code",
   "execution_count": null,
   "metadata": {},
   "outputs": [],
   "source": [
    "sale_data = pd.read_csv('./data/sales.csv')\n",
    "sale_data.head()"
   ]
  },
  {
   "cell_type": "code",
   "execution_count": null,
   "metadata": {},
   "outputs": [],
   "source": [
    "cat_df_list = []\n",
    "\n",
    "for index, row in tqdm(sale_data.iterrows()):\n",
    "    cat_df_list.append(row[6:].values)\n",
    "\n",
    "sales_amount = np.concatenate(cat_df_list).flatten()\n",
    "cat_df['판매금액'] = sales_amount\n",
    "\n",
    "cat_df.reset_index(drop=True, inplace=True)"
   ]
  },
  {
   "cell_type": "code",
   "execution_count": null,
   "metadata": {},
   "outputs": [],
   "source": [
    "cat_df['판매량'] = cat_df['판매량'].astype(int)\n",
    "cat_df['판매금액'] = cat_df['판매금액'].astype(int)"
   ]
  },
  {
   "cell_type": "code",
   "execution_count": null,
   "metadata": {},
   "outputs": [],
   "source": [
    "cat_df['개당판매금액'] = cat_df['판매금액'] / cat_df['판매량']"
   ]
  },
  {
   "cell_type": "code",
   "execution_count": null,
   "metadata": {},
   "outputs": [],
   "source": [
    "cat_df[cat_df['ID'] == 1]['개당판매금액'].plot()"
   ]
  },
  {
   "cell_type": "code",
   "execution_count": null,
   "metadata": {},
   "outputs": [],
   "source": [
    "def fill_missing_values(group):\n",
    "    return group.fillna(method='ffill').fillna(method='bfill')\n",
    "\n",
    "cat_df['개당판매금액'] = cat_df.groupby('ID')['개당판매금액'].transform(fill_missing_values)"
   ]
  },
  {
   "cell_type": "code",
   "execution_count": null,
   "metadata": {},
   "outputs": [],
   "source": [
    "cat_df[cat_df['ID'] == 1]['개당판매금액'].plot()"
   ]
  },
  {
   "cell_type": "code",
   "execution_count": null,
   "metadata": {},
   "outputs": [],
   "source": [
    "cat_df.drop('판매금액', axis=1, inplace=True)\n",
    "cat_df"
   ]
  },
  {
   "cell_type": "code",
   "execution_count": null,
   "metadata": {},
   "outputs": [],
   "source": [
    "brand_cnt_df = pd.read_csv('./data/brand_keyword_cnt.csv')\n",
    "brand_cnt_df"
   ]
  },
  {
   "cell_type": "code",
   "execution_count": null,
   "metadata": {},
   "outputs": [],
   "source": [
    "# Using a function to apply operations on each group of unique 'ID'\n",
    "tqdm.pandas()\n",
    "\n",
    "def process_group(sub_df):\n",
    "    brand_name = sub_df['브랜드'].iloc[0]\n",
    "    values = brand_cnt_df.loc[brand_cnt_df['브랜드'] == brand_name].iloc[:, 1:].values.flatten()\n",
    "    sub_df['언급량'] = values\n",
    "    return sub_df\n",
    "\n",
    "# Group the DataFrame by 'ID' and apply the function\n",
    "cat_df = cat_df.groupby('ID').progress_apply(process_group).reset_index(drop=True)"
   ]
  },
  {
   "cell_type": "code",
   "execution_count": null,
   "metadata": {},
   "outputs": [],
   "source": [
    "target_y = cat_df['판매량']\n",
    "cat_df.drop('판매량', axis=1, inplace=True)\n",
    "cat_df['판매량'] = target_y"
   ]
  },
  {
   "cell_type": "code",
   "execution_count": null,
   "metadata": {},
   "outputs": [],
   "source": [
    "cat_df"
   ]
  },
  {
   "cell_type": "code",
   "execution_count": null,
   "metadata": {},
   "outputs": [],
   "source": [
    "cat_df.to_csv('./data/preprocess_train_data.csv', index=False)"
   ]
  }
 ],
 "metadata": {
  "kernelspec": {
   "display_name": "lgai",
   "language": "python",
   "name": "python3"
  },
  "language_info": {
   "codemirror_mode": {
    "name": "ipython",
    "version": 3
   },
   "file_extension": ".py",
   "mimetype": "text/x-python",
   "name": "python",
   "nbconvert_exporter": "python",
   "pygments_lexer": "ipython3",
   "version": "3.8.17"
  },
  "orig_nbformat": 4
 },
 "nbformat": 4,
 "nbformat_minor": 2
}
